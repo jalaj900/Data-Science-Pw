{
 "cells": [
  {
   "cell_type": "code",
   "execution_count": 15,
   "id": "9559f365",
   "metadata": {},
   "outputs": [],
   "source": [
    "#q1"
   ]
  },
  {
   "cell_type": "code",
   "execution_count": 16,
   "id": "0105f580",
   "metadata": {},
   "outputs": [
    {
     "name": "stdout",
     "output_type": "stream",
     "text": [
      "0     4\n",
      "1     8\n",
      "2    15\n",
      "3    16\n",
      "4    23\n",
      "5    42\n",
      "dtype: int64\n"
     ]
    }
   ],
   "source": [
    "import pandas as pd\n",
    "\n",
    "# Create the Pandas Series\n",
    "data = [4, 8, 15, 16, 23, 42]\n",
    "series = pd.Series(data)\n",
    "\n",
    "# Print the series\n",
    "print(series)\n",
    "\n"
   ]
  },
  {
   "cell_type": "code",
   "execution_count": 17,
   "id": "95fe94a5",
   "metadata": {},
   "outputs": [],
   "source": [
    "#q2"
   ]
  },
  {
   "cell_type": "code",
   "execution_count": 18,
   "id": "d2046bb4",
   "metadata": {},
   "outputs": [
    {
     "name": "stdout",
     "output_type": "stream",
     "text": [
      "0     1\n",
      "1     2\n",
      "2     3\n",
      "3     4\n",
      "4     5\n",
      "5     6\n",
      "6     7\n",
      "7     8\n",
      "8     9\n",
      "9    10\n",
      "dtype: int64\n"
     ]
    }
   ],
   "source": [
    "#Create a list with 10 elements\n",
    "my_list = [1, 2, 3, 4, 5, 6, 7, 8, 9, 10]\n",
    "\n",
    "# Create a Pandas Series from the list\n",
    "series = pd.Series(my_list)\n",
    "\n",
    "# Print the Series\n",
    "print(series)"
   ]
  },
  {
   "cell_type": "code",
   "execution_count": 19,
   "id": "5137570b",
   "metadata": {},
   "outputs": [
    {
     "name": "stdout",
     "output_type": "stream",
     "text": [
      "     Name  Age  Gender\n",
      "0   Alice   25  Female\n",
      "1     Bob   30    Male\n",
      "2  Claire   27  Female\n"
     ]
    }
   ],
   "source": [
    "#q3\n",
    "\n",
    "# Create a DataFrame with the given data\n",
    "data = {\n",
    "    'Name': ['Alice', 'Bob', 'Claire'],\n",
    "    'Age': [25, 30, 27],\n",
    "    'Gender': ['Female', 'Male', 'Female']\n",
    "}\n",
    "\n",
    "df = pd.DataFrame(data)\n",
    "\n",
    "# Print the DataFrame\n",
    "print(df)\n"
   ]
  },
  {
   "cell_type": "code",
   "execution_count": 20,
   "id": "1eb7a91f",
   "metadata": {},
   "outputs": [],
   "source": [
    "#q4"
   ]
  },
  {
   "cell_type": "markdown",
   "id": "7ad6f76b",
   "metadata": {},
   "source": [
    "A DataFrame in Pandas is a two-dimensional, size-mutable, and potentially heterogeneous tabular data structure with labeled axes (rows and columns). It can be thought of as a table or a spreadsheet-like structure where data is organized in rows and columns.\n",
    "\n",
    "Differences between DataFrame and Series\n",
    "Structure:\n",
    "\n",
    "Series: A one-dimensional labeled array capable of holding any data type. It can be considered as a single column.\n",
    "DataFrame: A two-dimensional labeled data structure with columns that can be of different types (e.g., integers, floats, strings).\n",
    "Use Cases:\n",
    "\n",
    "Series: Useful for representing a single column of data.\n",
    "DataFrame: Useful for representing an entire dataset with multiple columns.\n",
    "Example\n"
   ]
  },
  {
   "cell_type": "code",
   "execution_count": 21,
   "id": "9d9a7461",
   "metadata": {},
   "outputs": [
    {
     "name": "stdout",
     "output_type": "stream",
     "text": [
      "Pandas Series:\n",
      "0    10\n",
      "1    20\n",
      "2    30\n",
      "3    40\n",
      "dtype: int64\n",
      "\n",
      "Pandas DataFrame:\n",
      "   Column1 Column2\n",
      "0       10       A\n",
      "1       20       B\n",
      "2       30       C\n",
      "3       40       D\n"
     ]
    }
   ],
   "source": [
    "\n",
    "\n",
    "# Create a Series\n",
    "data_series = pd.Series([10, 20, 30, 40])\n",
    "print(\"Pandas Series:\")\n",
    "print(data_series)\n",
    "\n",
    "# Create a DataFrame\n",
    "data_frame = pd.DataFrame({\n",
    "    'Column1': [10, 20, 30, 40],\n",
    "    'Column2': ['A', 'B', 'C', 'D']\n",
    "})\n",
    "print(\"\\nPandas DataFrame:\")\n",
    "print(data_frame)\n"
   ]
  },
  {
   "cell_type": "code",
   "execution_count": 22,
   "id": "14324588",
   "metadata": {},
   "outputs": [],
   "source": [
    "#q5"
   ]
  },
  {
   "cell_type": "code",
   "execution_count": 23,
   "id": "7a77a541",
   "metadata": {},
   "outputs": [
    {
     "name": "stdout",
     "output_type": "stream",
     "text": [
      "\n",
      "Pandas DataFrame:\n",
      "   Column1 Column2\n",
      "0       10       A\n",
      "1       20       B\n",
      "2       30       C\n",
      "3       40       D\n"
     ]
    },
    {
     "data": {
      "text/html": [
       "<div>\n",
       "<style scoped>\n",
       "    .dataframe tbody tr th:only-of-type {\n",
       "        vertical-align: middle;\n",
       "    }\n",
       "\n",
       "    .dataframe tbody tr th {\n",
       "        vertical-align: top;\n",
       "    }\n",
       "\n",
       "    .dataframe thead th {\n",
       "        text-align: right;\n",
       "    }\n",
       "</style>\n",
       "<table border=\"1\" class=\"dataframe\">\n",
       "  <thead>\n",
       "    <tr style=\"text-align: right;\">\n",
       "      <th></th>\n",
       "      <th>Column1</th>\n",
       "      <th>Column2</th>\n",
       "    </tr>\n",
       "  </thead>\n",
       "  <tbody>\n",
       "    <tr>\n",
       "      <th>0</th>\n",
       "      <td>10</td>\n",
       "      <td>A</td>\n",
       "    </tr>\n",
       "    <tr>\n",
       "      <th>1</th>\n",
       "      <td>20</td>\n",
       "      <td>B</td>\n",
       "    </tr>\n",
       "  </tbody>\n",
       "</table>\n",
       "</div>"
      ],
      "text/plain": [
       "   Column1 Column2\n",
       "0       10       A\n",
       "1       20       B"
      ]
     },
     "execution_count": 23,
     "metadata": {},
     "output_type": "execute_result"
    }
   ],
   "source": [
    "\n",
    "data_frame = pd.DataFrame({\n",
    "    'Column1': [10, 20, 30, 40],\n",
    "    'Column2': ['A', 'B', 'C', 'D']\n",
    "})\n",
    "print(\"\\nPandas DataFrame:\")\n",
    "print(data_frame)\n",
    "#head(): Returns the first n rows of the DataFrame.\n",
    "data_frame.head(2)"
   ]
  },
  {
   "cell_type": "markdown",
   "id": "a50291f5",
   "metadata": {},
   "source": [
    "## q6 Series, DataFrame,"
   ]
  },
  {
   "cell_type": "code",
   "execution_count": 24,
   "id": "07003f70",
   "metadata": {},
   "outputs": [
    {
     "name": "stdout",
     "output_type": "stream",
     "text": [
      "   A  B     C\n",
      "0  1  X  10.5\n",
      "1  2  Y  20.5\n",
      "2  3  Z  30.5\n"
     ]
    }
   ],
   "source": [
    "#q7\n",
    "# Create individual Series\n",
    "series1 = pd.Series([1, 2, 3], name='A')\n",
    "series2 = pd.Series(['X', 'Y', 'Z'], name='B')\n",
    "series3 = pd.Series([10.5, 20.5, 30.5], name='C')\n",
    "\n",
    "# Create a DataFrame using the Series\n",
    "data_frame = pd.DataFrame({\n",
    "    'A': series1,\n",
    "    'B': series2,\n",
    "    'C': series3\n",
    "})\n",
    "\n",
    "# Print the DataFrame\n",
    "print(data_frame)\n"
   ]
  },
  {
   "cell_type": "code",
   "execution_count": null,
   "id": "54cd1fb5",
   "metadata": {},
   "outputs": [],
   "source": []
  }
 ],
 "metadata": {
  "kernelspec": {
   "display_name": "Python 3 (ipykernel)",
   "language": "python",
   "name": "python3"
  },
  "language_info": {
   "codemirror_mode": {
    "name": "ipython",
    "version": 3
   },
   "file_extension": ".py",
   "mimetype": "text/x-python",
   "name": "python",
   "nbconvert_exporter": "python",
   "pygments_lexer": "ipython3",
   "version": "3.9.13"
  }
 },
 "nbformat": 4,
 "nbformat_minor": 5
}
