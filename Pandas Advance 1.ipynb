{
 "cells": [
  {
   "cell_type": "markdown",
   "id": "0fb0083a",
   "metadata": {},
   "source": [
    "# Q1"
   ]
  },
  {
   "cell_type": "code",
   "execution_count": 1,
   "id": "c8f998b2",
   "metadata": {},
   "outputs": [
    {
     "data": {
      "text/html": [
       "<div>\n",
       "<style scoped>\n",
       "    .dataframe tbody tr th:only-of-type {\n",
       "        vertical-align: middle;\n",
       "    }\n",
       "\n",
       "    .dataframe tbody tr th {\n",
       "        vertical-align: top;\n",
       "    }\n",
       "\n",
       "    .dataframe thead th {\n",
       "        text-align: right;\n",
       "    }\n",
       "</style>\n",
       "<table border=\"1\" class=\"dataframe\">\n",
       "  <thead>\n",
       "    <tr style=\"text-align: right;\">\n",
       "      <th></th>\n",
       "      <th>A</th>\n",
       "      <th>B</th>\n",
       "    </tr>\n",
       "  </thead>\n",
       "  <tbody>\n",
       "    <tr>\n",
       "      <th>0</th>\n",
       "      <td>1</td>\n",
       "      <td>3</td>\n",
       "    </tr>\n",
       "    <tr>\n",
       "      <th>1</th>\n",
       "      <td>2</td>\n",
       "      <td>4</td>\n",
       "    </tr>\n",
       "  </tbody>\n",
       "</table>\n",
       "</div>"
      ],
      "text/plain": [
       "   A  B\n",
       "0  1  3\n",
       "1  2  4"
      ]
     },
     "execution_count": 1,
     "metadata": {},
     "output_type": "execute_result"
    }
   ],
   "source": [
    "import pandas as pd\n",
    "\n",
    "\n",
    "data = {'A': [1, 2], 'B': [3, 4]}\n",
    "\n",
    "#1\n",
    "df = pd.DataFrame(data)\n",
    "#2\n",
    "df.head(3)\n"
   ]
  },
  {
   "cell_type": "code",
   "execution_count": 2,
   "id": "8267be0a",
   "metadata": {},
   "outputs": [
    {
     "data": {
      "text/html": [
       "<div>\n",
       "<style scoped>\n",
       "    .dataframe tbody tr th:only-of-type {\n",
       "        vertical-align: middle;\n",
       "    }\n",
       "\n",
       "    .dataframe tbody tr th {\n",
       "        vertical-align: top;\n",
       "    }\n",
       "\n",
       "    .dataframe thead th {\n",
       "        text-align: right;\n",
       "    }\n",
       "</style>\n",
       "<table border=\"1\" class=\"dataframe\">\n",
       "  <thead>\n",
       "    <tr style=\"text-align: right;\">\n",
       "      <th></th>\n",
       "      <th>A</th>\n",
       "      <th>B</th>\n",
       "    </tr>\n",
       "  </thead>\n",
       "  <tbody>\n",
       "    <tr>\n",
       "      <th>count</th>\n",
       "      <td>2.000000</td>\n",
       "      <td>2.000000</td>\n",
       "    </tr>\n",
       "    <tr>\n",
       "      <th>mean</th>\n",
       "      <td>1.500000</td>\n",
       "      <td>3.500000</td>\n",
       "    </tr>\n",
       "    <tr>\n",
       "      <th>std</th>\n",
       "      <td>0.707107</td>\n",
       "      <td>0.707107</td>\n",
       "    </tr>\n",
       "    <tr>\n",
       "      <th>min</th>\n",
       "      <td>1.000000</td>\n",
       "      <td>3.000000</td>\n",
       "    </tr>\n",
       "    <tr>\n",
       "      <th>25%</th>\n",
       "      <td>1.250000</td>\n",
       "      <td>3.250000</td>\n",
       "    </tr>\n",
       "    <tr>\n",
       "      <th>50%</th>\n",
       "      <td>1.500000</td>\n",
       "      <td>3.500000</td>\n",
       "    </tr>\n",
       "    <tr>\n",
       "      <th>75%</th>\n",
       "      <td>1.750000</td>\n",
       "      <td>3.750000</td>\n",
       "    </tr>\n",
       "    <tr>\n",
       "      <th>max</th>\n",
       "      <td>2.000000</td>\n",
       "      <td>4.000000</td>\n",
       "    </tr>\n",
       "  </tbody>\n",
       "</table>\n",
       "</div>"
      ],
      "text/plain": [
       "              A         B\n",
       "count  2.000000  2.000000\n",
       "mean   1.500000  3.500000\n",
       "std    0.707107  0.707107\n",
       "min    1.000000  3.000000\n",
       "25%    1.250000  3.250000\n",
       "50%    1.500000  3.500000\n",
       "75%    1.750000  3.750000\n",
       "max    2.000000  4.000000"
      ]
     },
     "execution_count": 2,
     "metadata": {},
     "output_type": "execute_result"
    }
   ],
   "source": [
    "#3\n",
    "df.describe()\n"
   ]
  },
  {
   "cell_type": "code",
   "execution_count": 3,
   "id": "8718b64b",
   "metadata": {},
   "outputs": [
    {
     "data": {
      "text/html": [
       "<div>\n",
       "<style scoped>\n",
       "    .dataframe tbody tr th:only-of-type {\n",
       "        vertical-align: middle;\n",
       "    }\n",
       "\n",
       "    .dataframe tbody tr th {\n",
       "        vertical-align: top;\n",
       "    }\n",
       "\n",
       "    .dataframe thead th {\n",
       "        text-align: right;\n",
       "    }\n",
       "</style>\n",
       "<table border=\"1\" class=\"dataframe\">\n",
       "  <thead>\n",
       "    <tr style=\"text-align: right;\">\n",
       "      <th></th>\n",
       "      <th>A</th>\n",
       "      <th>B</th>\n",
       "    </tr>\n",
       "  </thead>\n",
       "  <tbody>\n",
       "    <tr>\n",
       "      <th>0</th>\n",
       "      <td>1</td>\n",
       "      <td>3</td>\n",
       "    </tr>\n",
       "    <tr>\n",
       "      <th>1</th>\n",
       "      <td>2</td>\n",
       "      <td>4</td>\n",
       "    </tr>\n",
       "  </tbody>\n",
       "</table>\n",
       "</div>"
      ],
      "text/plain": [
       "   A  B\n",
       "0  1  3\n",
       "1  2  4"
      ]
     },
     "execution_count": 3,
     "metadata": {},
     "output_type": "execute_result"
    }
   ],
   "source": [
    "#4\n",
    "df.tail()\n"
   ]
  },
  {
   "cell_type": "code",
   "execution_count": 4,
   "id": "455807c9",
   "metadata": {},
   "outputs": [
    {
     "name": "stdout",
     "output_type": "stream",
     "text": [
      "<class 'pandas.core.frame.DataFrame'>\n",
      "RangeIndex: 2 entries, 0 to 1\n",
      "Data columns (total 2 columns):\n",
      " #   Column  Non-Null Count  Dtype\n",
      "---  ------  --------------  -----\n",
      " 0   A       2 non-null      int64\n",
      " 1   B       2 non-null      int64\n",
      "dtypes: int64(2)\n",
      "memory usage: 160.0 bytes\n"
     ]
    }
   ],
   "source": [
    "#5\n",
    "df.info()\n"
   ]
  },
  {
   "cell_type": "markdown",
   "id": "2a9b6aa8",
   "metadata": {},
   "source": [
    "# Q2"
   ]
  },
  {
   "cell_type": "code",
   "execution_count": 5,
   "id": "e09fcc17",
   "metadata": {},
   "outputs": [],
   "source": [
    "def reindex_df(df):\n",
    "    df.index = range(1, len(df) * 2, 2)\n",
    "    return df\n",
    "\n",
    "# Example usage\n",
    "df = pd.DataFrame({'A': [1, 2], 'B': [3, 4], 'C': [5, 6]})\n",
    "reindexed_df = reindex_df(df)\n"
   ]
  },
  {
   "cell_type": "code",
   "execution_count": 6,
   "id": "3684e491",
   "metadata": {},
   "outputs": [
    {
     "data": {
      "text/html": [
       "<div>\n",
       "<style scoped>\n",
       "    .dataframe tbody tr th:only-of-type {\n",
       "        vertical-align: middle;\n",
       "    }\n",
       "\n",
       "    .dataframe tbody tr th {\n",
       "        vertical-align: top;\n",
       "    }\n",
       "\n",
       "    .dataframe thead th {\n",
       "        text-align: right;\n",
       "    }\n",
       "</style>\n",
       "<table border=\"1\" class=\"dataframe\">\n",
       "  <thead>\n",
       "    <tr style=\"text-align: right;\">\n",
       "      <th></th>\n",
       "      <th>A</th>\n",
       "      <th>B</th>\n",
       "      <th>C</th>\n",
       "    </tr>\n",
       "  </thead>\n",
       "  <tbody>\n",
       "    <tr>\n",
       "      <th>1</th>\n",
       "      <td>1</td>\n",
       "      <td>3</td>\n",
       "      <td>5</td>\n",
       "    </tr>\n",
       "    <tr>\n",
       "      <th>3</th>\n",
       "      <td>2</td>\n",
       "      <td>4</td>\n",
       "      <td>6</td>\n",
       "    </tr>\n",
       "  </tbody>\n",
       "</table>\n",
       "</div>"
      ],
      "text/plain": [
       "   A  B  C\n",
       "1  1  3  5\n",
       "3  2  4  6"
      ]
     },
     "execution_count": 6,
     "metadata": {},
     "output_type": "execute_result"
    }
   ],
   "source": [
    "df"
   ]
  },
  {
   "cell_type": "markdown",
   "id": "64698ce0",
   "metadata": {},
   "source": [
    "# Q3"
   ]
  },
  {
   "cell_type": "code",
   "execution_count": 7,
   "id": "ac06e3f1",
   "metadata": {},
   "outputs": [
    {
     "name": "stdout",
     "output_type": "stream",
     "text": [
      "Sum of the first three values: 60\n"
     ]
    },
    {
     "data": {
      "text/html": [
       "<div>\n",
       "<style scoped>\n",
       "    .dataframe tbody tr th:only-of-type {\n",
       "        vertical-align: middle;\n",
       "    }\n",
       "\n",
       "    .dataframe tbody tr th {\n",
       "        vertical-align: top;\n",
       "    }\n",
       "\n",
       "    .dataframe thead th {\n",
       "        text-align: right;\n",
       "    }\n",
       "</style>\n",
       "<table border=\"1\" class=\"dataframe\">\n",
       "  <thead>\n",
       "    <tr style=\"text-align: right;\">\n",
       "      <th></th>\n",
       "      <th>Values</th>\n",
       "    </tr>\n",
       "  </thead>\n",
       "  <tbody>\n",
       "    <tr>\n",
       "      <th>0</th>\n",
       "      <td>10</td>\n",
       "    </tr>\n",
       "    <tr>\n",
       "      <th>1</th>\n",
       "      <td>20</td>\n",
       "    </tr>\n",
       "    <tr>\n",
       "      <th>2</th>\n",
       "      <td>30</td>\n",
       "    </tr>\n",
       "    <tr>\n",
       "      <th>3</th>\n",
       "      <td>40</td>\n",
       "    </tr>\n",
       "    <tr>\n",
       "      <th>4</th>\n",
       "      <td>50</td>\n",
       "    </tr>\n",
       "  </tbody>\n",
       "</table>\n",
       "</div>"
      ],
      "text/plain": [
       "   Values\n",
       "0      10\n",
       "1      20\n",
       "2      30\n",
       "3      40\n",
       "4      50"
      ]
     },
     "execution_count": 7,
     "metadata": {},
     "output_type": "execute_result"
    }
   ],
   "source": [
    "def sum_first_three(df):\n",
    "    total = df['Values'].head(3).sum()\n",
    "    print(\"Sum of the first three values:\", total)\n",
    "\n",
    "# Example \n",
    "df = pd.DataFrame({'Values': [10, 20, 30, 40, 50]})\n",
    "sum_first_three(df)\n",
    "df"
   ]
  },
  {
   "cell_type": "markdown",
   "id": "6e3a9873",
   "metadata": {},
   "source": [
    "# Q4"
   ]
  },
  {
   "cell_type": "code",
   "execution_count": 8,
   "id": "4fd56fc2",
   "metadata": {},
   "outputs": [
    {
     "data": {
      "text/html": [
       "<div>\n",
       "<style scoped>\n",
       "    .dataframe tbody tr th:only-of-type {\n",
       "        vertical-align: middle;\n",
       "    }\n",
       "\n",
       "    .dataframe tbody tr th {\n",
       "        vertical-align: top;\n",
       "    }\n",
       "\n",
       "    .dataframe thead th {\n",
       "        text-align: right;\n",
       "    }\n",
       "</style>\n",
       "<table border=\"1\" class=\"dataframe\">\n",
       "  <thead>\n",
       "    <tr style=\"text-align: right;\">\n",
       "      <th></th>\n",
       "      <th>Text</th>\n",
       "      <th>Word_Count</th>\n",
       "    </tr>\n",
       "  </thead>\n",
       "  <tbody>\n",
       "    <tr>\n",
       "      <th>0</th>\n",
       "      <td>Hello world</td>\n",
       "      <td>2</td>\n",
       "    </tr>\n",
       "    <tr>\n",
       "      <th>1</th>\n",
       "      <td>Pandas is great</td>\n",
       "      <td>3</td>\n",
       "    </tr>\n",
       "  </tbody>\n",
       "</table>\n",
       "</div>"
      ],
      "text/plain": [
       "              Text  Word_Count\n",
       "0      Hello world           2\n",
       "1  Pandas is great           3"
      ]
     },
     "execution_count": 8,
     "metadata": {},
     "output_type": "execute_result"
    }
   ],
   "source": [
    "def add_word_count(df):\n",
    "    df['Word_Count'] = df['Text'].apply(lambda x: len(x.split()))\n",
    "    return df\n",
    "\n",
    "# Example \n",
    "df = pd.DataFrame({'Text': ['Hello world', 'Pandas is great']})\n",
    "updated_df = add_word_count(df)\n",
    "updated_df"
   ]
  },
  {
   "cell_type": "markdown",
   "id": "8e5c3ac5",
   "metadata": {},
   "source": [
    "# Q5\n",
    "\n",
    "Difference Between DataFrame.size and DataFrame.shape\n",
    "\n",
    "1.DataFrame.size: Returns the total number of elements in the DataFrame (rows × columns).\n",
    "\n",
    "2.DataFrame.shape: Returns a tuple representing the dimensions of the DataFrame (number of rows, number of columns)."
   ]
  },
  {
   "cell_type": "markdown",
   "id": "5a711e99",
   "metadata": {},
   "source": [
    "# Q6"
   ]
  },
  {
   "cell_type": "code",
   "execution_count": 12,
   "id": "a660239c",
   "metadata": {},
   "outputs": [],
   "source": [
    "#pd.read_excel('file.xlsx')\n"
   ]
  },
  {
   "cell_type": "markdown",
   "id": "0b66e2d8",
   "metadata": {},
   "source": [
    "# Q 7"
   ]
  },
  {
   "cell_type": "code",
   "execution_count": 9,
   "id": "c92748e3",
   "metadata": {},
   "outputs": [
    {
     "data": {
      "text/html": [
       "<div>\n",
       "<style scoped>\n",
       "    .dataframe tbody tr th:only-of-type {\n",
       "        vertical-align: middle;\n",
       "    }\n",
       "\n",
       "    .dataframe tbody tr th {\n",
       "        vertical-align: top;\n",
       "    }\n",
       "\n",
       "    .dataframe thead th {\n",
       "        text-align: right;\n",
       "    }\n",
       "</style>\n",
       "<table border=\"1\" class=\"dataframe\">\n",
       "  <thead>\n",
       "    <tr style=\"text-align: right;\">\n",
       "      <th></th>\n",
       "      <th>Email</th>\n",
       "      <th>Username</th>\n",
       "    </tr>\n",
       "  </thead>\n",
       "  <tbody>\n",
       "    <tr>\n",
       "      <th>0</th>\n",
       "      <td>john.doe@example.com</td>\n",
       "      <td>john.doe</td>\n",
       "    </tr>\n",
       "    <tr>\n",
       "      <th>1</th>\n",
       "      <td>jane.smith@domain.com</td>\n",
       "      <td>jane.smith</td>\n",
       "    </tr>\n",
       "  </tbody>\n",
       "</table>\n",
       "</div>"
      ],
      "text/plain": [
       "                   Email    Username\n",
       "0   john.doe@example.com    john.doe\n",
       "1  jane.smith@domain.com  jane.smith"
      ]
     },
     "execution_count": 9,
     "metadata": {},
     "output_type": "execute_result"
    }
   ],
   "source": [
    "def extract_username(df):\n",
    "    df['Username'] = df['Email'].apply(lambda x: x.split('@')[0])\n",
    "    return df\n",
    "\n",
    "# Example \n",
    "df = pd.DataFrame({'Email': ['john.doe@example.com', 'jane.smith@domain.com']})\n",
    "updated_df = extract_username(df)\n",
    "updated_df"
   ]
  },
  {
   "cell_type": "markdown",
   "id": "6d5508fb",
   "metadata": {},
   "source": [
    "# Q8"
   ]
  },
  {
   "cell_type": "code",
   "execution_count": 11,
   "id": "d3b01d98",
   "metadata": {},
   "outputs": [
    {
     "name": "stdout",
     "output_type": "stream",
     "text": [
      "   A  B  C\n",
      "1  8  2  7\n",
      "2  6  9  4\n",
      "4  9  1  2\n"
     ]
    }
   ],
   "source": [
    "def select_rows(df):\n",
    "    # Select rows where column 'A' > 5 and column 'B' < 10\n",
    "    filtered_df = df[(df['A'] > 5) & (df['B'] < 10)]\n",
    "    return filtered_df\n",
    "\n",
    "# Example usage\n",
    "data = {\n",
    "    'A': [3, 8, 6, 2, 9],\n",
    "    'B': [5, 2, 9, 3, 1],\n",
    "    'C': [1, 7, 4, 5, 2]\n",
    "}\n",
    "\n",
    "df = pd.DataFrame(data)\n",
    "\n",
    "# Get the filtered DataFrame\n",
    "result_df = select_rows(df)\n",
    "print(result_df)\n"
   ]
  },
  {
   "cell_type": "markdown",
   "id": "3914829e",
   "metadata": {},
   "source": [
    "# Q9"
   ]
  },
  {
   "cell_type": "code",
   "execution_count": 13,
   "id": "3d30b3ad",
   "metadata": {},
   "outputs": [
    {
     "name": "stdout",
     "output_type": "stream",
     "text": [
      "Mean: 30.0\n",
      "Median: 30.0\n",
      "Standard Deviation: 15.811388300841896\n"
     ]
    }
   ],
   "source": [
    "import pandas as pd\n",
    "\n",
    "def calculate_statistics(df):\n",
    "    mean_value = df['Values'].mean()\n",
    "    median_value = df['Values'].median()\n",
    "    std_dev = df['Values'].std()\n",
    "    \n",
    "    return mean_value, median_value, std_dev\n",
    "\n",
    "# Example usage\n",
    "data = {\n",
    "    'Values': [10, 20, 30, 40, 50]\n",
    "}\n",
    "\n",
    "df = pd.DataFrame(data)\n",
    "mean, median, std = calculate_statistics(df)\n",
    "print(\"Mean:\", mean)\n",
    "print(\"Median:\", median)\n",
    "print(\"Standard Deviation:\", std)\n"
   ]
  },
  {
   "cell_type": "markdown",
   "id": "bf60b6c6",
   "metadata": {},
   "source": [
    "# Q10"
   ]
  },
  {
   "cell_type": "code",
   "execution_count": 14,
   "id": "8d3fb67f",
   "metadata": {},
   "outputs": [
    {
     "name": "stdout",
     "output_type": "stream",
     "text": [
      "   Sales       Date  MovingAverage\n",
      "0    100 2023-01-01            NaN\n",
      "1    200 2023-01-02            NaN\n",
      "2    150 2023-01-03            NaN\n",
      "3    300 2023-01-04            NaN\n",
      "4    250 2023-01-05            NaN\n",
      "5    400 2023-01-06            NaN\n",
      "6    350 2023-01-07     250.000000\n",
      "7    500 2023-01-08     307.142857\n",
      "8    450 2023-01-09     342.857143\n",
      "9    600 2023-01-10     407.142857\n"
     ]
    }
   ],
   "source": [
    "def calculate_moving_average(df):\n",
    "    df['MovingAverage'] = df['Sales'].rolling(window=7).mean()\n",
    "    return df\n",
    "\n",
    "# Example usage\n",
    "sales_data = {\n",
    "    'Sales': [100, 200, 150, 300, 250, 400, 350, 500, 450, 600],\n",
    "    'Date': pd.date_range(start='2023-01-01', periods=10)\n",
    "}\n",
    "\n",
    "df_sales = pd.DataFrame(sales_data)\n",
    "df_sales = calculate_moving_average(df_sales)\n",
    "print(df_sales)\n"
   ]
  },
  {
   "cell_type": "markdown",
   "id": "e965b5d4",
   "metadata": {},
   "source": [
    "# Q11"
   ]
  },
  {
   "cell_type": "code",
   "execution_count": 15,
   "id": "0acbf4bd",
   "metadata": {},
   "outputs": [
    {
     "name": "stdout",
     "output_type": "stream",
     "text": [
      "         Date    Weekday\n",
      "0  2023-01-01     Sunday\n",
      "1  2023-01-02     Monday\n",
      "2  2023-01-03    Tuesday\n",
      "3  2023-01-04  Wednesday\n",
      "4  2023-01-05   Thursday\n"
     ]
    }
   ],
   "source": [
    "def add_weekday_column(df):\n",
    "    df['Weekday'] = pd.to_datetime(df['Date']).dt.day_name()\n",
    "    return df\n",
    "\n",
    "# Example usage\n",
    "date_data = {\n",
    "    'Date': ['2023-01-01', '2023-01-02', '2023-01-03', '2023-01-04', '2023-01-05']\n",
    "}\n",
    "\n",
    "df_dates = pd.DataFrame(date_data)\n",
    "df_dates = add_weekday_column(df_dates)\n",
    "print(df_dates)\n"
   ]
  },
  {
   "cell_type": "code",
   "execution_count": 16,
   "id": "fe0f81df",
   "metadata": {},
   "outputs": [
    {
     "name": "stdout",
     "output_type": "stream",
     "text": [
      "        Date  Value\n",
      "0 2023-01-01     10\n",
      "1 2023-01-15     20\n",
      "3 2023-01-31     40\n"
     ]
    }
   ],
   "source": [
    "#q12\n",
    "import pandas as pd\n",
    "\n",
    "def select_date_range(df):\n",
    "    # Convert 'Date' column to datetime if it's not already\n",
    "    df['Date'] = pd.to_datetime(df['Date'])\n",
    "    # Select rows within the specified date range\n",
    "    filtered_df = df[(df['Date'] >= '2023-01-01') & (df['Date'] <= '2023-01-31')]\n",
    "    return filtered_df\n",
    "\n",
    "# Example usage\n",
    "data = {\n",
    "    'Date': ['2023-01-01', '2023-01-15', '2023-02-01', '2023-01-31'],\n",
    "    'Value': [10, 20, 30, 40]\n",
    "}\n",
    "\n",
    "df = pd.DataFrame(data)\n",
    "result_df = select_date_range(df)\n",
    "print(result_df)\n"
   ]
  },
  {
   "cell_type": "code",
   "execution_count": 17,
   "id": "c03c8954",
   "metadata": {},
   "outputs": [],
   "source": [
    "#q13\n",
    "\n",
    "import pandas as pd\n"
   ]
  },
  {
   "cell_type": "code",
   "execution_count": null,
   "id": "dd0b0abb",
   "metadata": {},
   "outputs": [],
   "source": []
  }
 ],
 "metadata": {
  "kernelspec": {
   "display_name": "Python 3 (ipykernel)",
   "language": "python",
   "name": "python3"
  },
  "language_info": {
   "codemirror_mode": {
    "name": "ipython",
    "version": 3
   },
   "file_extension": ".py",
   "mimetype": "text/x-python",
   "name": "python",
   "nbconvert_exporter": "python",
   "pygments_lexer": "ipython3",
   "version": "3.9.13"
  }
 },
 "nbformat": 4,
 "nbformat_minor": 5
}
